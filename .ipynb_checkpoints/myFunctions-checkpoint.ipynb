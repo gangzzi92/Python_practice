{
 "cells": [
  {
   "cell_type": "markdown",
   "metadata": {},
   "source": [
    "### 리스트의 최대, 최소값을 뺀 평균 구하기"
   ]
  },
  {
   "cell_type": "code",
   "execution_count": null,
   "metadata": {},
   "outputs": [],
   "source": [
    "def avgList(inputList):\n",
    "\n",
    "    minValue = min(inputList)\n",
    "    maxValue = max(inputList)\n",
    "    sumValue = sum(inputList)\n",
    "    lenValue = len(inputList)\n",
    "    \n",
    "    minCount = inputList.count(minValue)\n",
    "    maxCount = inputList.count(maxValue)\n",
    "    \n",
    "    sumMinMax = (minValue * minCount) + (maxValue * maxCount)\n",
    "\n",
    "    average = (sum(inputList) - sumMinMax)/(lenValue-(minCount+maxCount))\n",
    "    return(average)"
   ]
  },
  {
   "cell_type": "markdown",
   "metadata": {},
   "source": [
    "### 소수점 n번째 자리에서 반올림하기"
   ]
  },
  {
   "cell_type": "code",
   "execution_count": 1,
   "metadata": {},
   "outputs": [],
   "source": [
    "def roundFunction(display2Digit, digit):\n",
    "    step1 = display2Digit * 10 ** digit    \n",
    "    step2 = round(step1)    \n",
    "    step3 = step2/ 10 ** digit\n",
    "    return step3"
   ]
  }
 ],
 "metadata": {
  "kernelspec": {
   "display_name": "Python 3",
   "language": "python",
   "name": "python3"
  },
  "language_info": {
   "codemirror_mode": {
    "name": "ipython",
    "version": 3
   },
   "file_extension": ".py",
   "mimetype": "text/x-python",
   "name": "python",
   "nbconvert_exporter": "python",
   "pygments_lexer": "ipython3",
   "version": "3.7.1"
  }
 },
 "nbformat": 4,
 "nbformat_minor": 2
}

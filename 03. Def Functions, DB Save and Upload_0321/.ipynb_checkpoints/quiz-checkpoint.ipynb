{
 "cells": [
  {
   "cell_type": "markdown",
   "metadata": {},
   "source": [
    "### Quiz1 리스트에서 LEDTV가 한 개만 작동하도록 하세요"
   ]
  },
  {
   "cell_type": "code",
   "execution_count": 3,
   "metadata": {},
   "outputs": [
    {
     "data": {
      "text/plain": [
       "['LEDTV_UN40EN001', 'LEDTV_UN40EN002', 'LEDTV_UN40EN003', 'LEDTV_UN40EN004']"
      ]
     },
     "execution_count": 3,
     "metadata": {},
     "output_type": "execute_result"
    }
   ],
   "source": [
    "tvList2=[\"UN40EN001\", \"LEDTV_UN40EN002\", \"LEDTV_LEDTV_UN40EN003\", \"UN40EN004\"]\n",
    "preFix = \"LEDTV_\"\n",
    "for i in range(0, len(tvList2)):\n",
    "    preFixCount = tvList2[i].count(preFix)\n",
    "    if(preFixCount > 1):\n",
    "        tvList2[i] = tvList2[i].replace(preFix*preFixCount,preFix)\n",
    "    elif(preFixCount==0) :\n",
    "        tvList2[i] = preFix + tvList2[i]\n",
    "tvList2"
   ]
  },
  {
   "cell_type": "code",
   "execution_count": 57,
   "metadata": {},
   "outputs": [
    {
     "data": {
      "text/plain": [
       "['LEDTV_UN40EN001', 'LEDTV_UN40EN002', 'LEDTV_UN40EN003', 'LEDTV_UN40EN004']"
      ]
     },
     "execution_count": 57,
     "metadata": {},
     "output_type": "execute_result"
    }
   ],
   "source": [
    "tvList2=[\"UN40EN001\", \"LEDTV_UN40EN002\", \"LEDTV_LEDTV_UN40EN003\", \"UN40EN004\"]\n",
    "preFix = \"LEDTV_\"\n",
    "for i in range(0, len(tvList2)):\n",
    "    preFixCount = tvList2[i].count(preFix)\n",
    "    if(preFixCount >= 1):\n",
    "        tvList2[i] = tvList2[i].replace(preFix,\"\")\n",
    "    tvList2[i] = preFix + tvList2[i]\n",
    "tvList2"
   ]
  },
  {
   "cell_type": "markdown",
   "metadata": {},
   "source": [
    "### Quiz2 국가코드만 출력하세요"
   ]
  },
  {
   "cell_type": "code",
   "execution_count": 14,
   "metadata": {},
   "outputs": [
    {
     "name": "stdout",
     "output_type": "stream",
     "text": [
      "A01\n",
      "A02\n",
      "A03\n"
     ]
    }
   ],
   "source": [
    "List = [\"A01\",\"한국\", \"A02\", \"미국\", \"A03\", \"프랑스\"]\n",
    "preFix = \"A\"\n",
    "for i in range(0, len(List)):\n",
    "    preFixCount = List[i].count(preFix)\n",
    "    if(preFixCount > 0):\n",
    "        print(List[i])"
   ]
  },
  {
   "cell_type": "markdown",
   "metadata": {},
   "source": [
    "### Quiz3 SCORE 변수를 80으로 선언 후 90점이상 A, 80~90점 B, 이외 C 점수로\n",
    "### 　　　GRADE변수에 할당하는 프로그램을 구현하세요"
   ]
  },
  {
   "cell_type": "code",
   "execution_count": 34,
   "metadata": {},
   "outputs": [
    {
     "data": {
      "text/plain": [
       "'B'"
      ]
     },
     "execution_count": 34,
     "metadata": {},
     "output_type": "execute_result"
    }
   ],
   "source": [
    "SCORE = 80\n",
    "if (SCORE >= 90):\n",
    "    GRADE = \"A\"\n",
    "elif (SCORE < 90) and (SCORE >= 80) :\n",
    "    GRADE = \"B\"\n",
    "else :\n",
    "    GRADE = \"C\"\n",
    "GRADE"
   ]
  },
  {
   "cell_type": "markdown",
   "metadata": {},
   "source": [
    "### Quiz4 리스트를 인수로 받아서 최대, 최소값을 뺀 평균을 구하는 함수를 생성하세요"
   ]
  },
  {
   "cell_type": "code",
   "execution_count": 16,
   "metadata": {},
   "outputs": [],
   "source": [
    "import pandas as pd"
   ]
  },
  {
   "cell_type": "code",
   "execution_count": 23,
   "metadata": {},
   "outputs": [],
   "source": [
    "def avgList(inputList):\n",
    "\n",
    "    minValue = min(inputList)\n",
    "    maxValue = max(inputList)\n",
    "    sumValue = sum(inputList)\n",
    "    lenValue = len(inputList)\n",
    "    minCount = inputList.count(minValue)\n",
    "    maxCount = inputList.count(maxValue)\n",
    "    sumMinMax = (minValue * minCount) + (maxValue * maxCount)\n",
    "\n",
    "    average = (sum(inputList) - sumMinMax)/(lenValue-(minCount+maxCount))\n",
    "    return(average)"
   ]
  },
  {
   "cell_type": "code",
   "execution_count": 24,
   "metadata": {},
   "outputs": [],
   "source": [
    "sampleList = [1,2,3,5,5,24,3,432,54,24,345,12]"
   ]
  },
  {
   "cell_type": "code",
   "execution_count": 25,
   "metadata": {},
   "outputs": [
    {
     "data": {
      "text/plain": [
       "47.7"
      ]
     },
     "execution_count": 25,
     "metadata": {},
     "output_type": "execute_result"
    }
   ],
   "source": [
    "avgList(sampleList)"
   ]
  },
  {
   "cell_type": "code",
   "execution_count": 26,
   "metadata": {},
   "outputs": [],
   "source": [
    "customerData = pd.read_csv(\"../dataset/kopo_customerdata.csv\")\n",
    "customerTotalList = customerData[\"TOTAL_AMOUNT\"].tolist()"
   ]
  },
  {
   "cell_type": "code",
   "execution_count": 32,
   "metadata": {},
   "outputs": [
    {
     "data": {
      "text/plain": [
       "35248.91490376756"
      ]
     },
     "execution_count": 32,
     "metadata": {},
     "output_type": "execute_result"
    }
   ],
   "source": [
    "avgList(customerTotalList)"
   ]
  },
  {
   "cell_type": "markdown",
   "metadata": {},
   "source": [
    "### Quiz5 사칙연산을 할수 있는 함수를 생성한 후 사용자의 변수를 2개 를 입력받아\n",
    "### 　　　print문을 활용하여 더하기 예제를 출력하세요"
   ]
  },
  {
   "cell_type": "code",
   "execution_count": 1,
   "metadata": {},
   "outputs": [],
   "source": [
    "def calcul(minority, cal):\n",
    "    while((cal != \"+\") & (cal != \"*\") & (cal != \"/\") & (cal != \"-\")) :\n",
    "        print('\"+\", \"-\", \"*\", \"/\" 중에서 입력하세요.')\n",
    "        cal = input()\n",
    "    inputX = float(input())\n",
    "    inputY = float(input())\n",
    "    if (cal == \"+\"):\n",
    "        result = round(inputX + inputY, minority)\n",
    "    elif (cal == \"*\"):\n",
    "        result = round(inputX * inputY, minority)\n",
    "    elif (cal == \"/\"):\n",
    "        result = round(inputX / inputY, minority)\n",
    "    elif (cal == \"-\"):\n",
    "        result = round(inputX - inputY, minority)\n",
    "\n",
    "            \n",
    "    return result\n",
    "    print(result)"
   ]
  },
  {
   "cell_type": "code",
   "execution_count": null,
   "metadata": {},
   "outputs": [],
   "source": []
  },
  {
   "cell_type": "code",
   "execution_count": null,
   "metadata": {},
   "outputs": [],
   "source": []
  },
  {
   "cell_type": "code",
   "execution_count": null,
   "metadata": {},
   "outputs": [],
   "source": []
  },
  {
   "cell_type": "code",
   "execution_count": null,
   "metadata": {},
   "outputs": [],
   "source": []
  },
  {
   "cell_type": "code",
   "execution_count": null,
   "metadata": {},
   "outputs": [],
   "source": []
  },
  {
   "cell_type": "code",
   "execution_count": null,
   "metadata": {},
   "outputs": [],
   "source": []
  },
  {
   "cell_type": "code",
   "execution_count": null,
   "metadata": {},
   "outputs": [],
   "source": []
  },
  {
   "cell_type": "code",
   "execution_count": null,
   "metadata": {},
   "outputs": [],
   "source": []
  },
  {
   "cell_type": "code",
   "execution_count": null,
   "metadata": {},
   "outputs": [],
   "source": []
  },
  {
   "cell_type": "code",
   "execution_count": null,
   "metadata": {},
   "outputs": [],
   "source": []
  }
 ],
 "metadata": {
  "kernelspec": {
   "display_name": "Python 3",
   "language": "python",
   "name": "python3"
  },
  "language_info": {
   "codemirror_mode": {
    "name": "ipython",
    "version": 3
   },
   "file_extension": ".py",
   "mimetype": "text/x-python",
   "name": "python",
   "nbconvert_exporter": "python",
   "pygments_lexer": "ipython3",
   "version": "3.7.1"
  }
 },
 "nbformat": 4,
 "nbformat_minor": 2
}

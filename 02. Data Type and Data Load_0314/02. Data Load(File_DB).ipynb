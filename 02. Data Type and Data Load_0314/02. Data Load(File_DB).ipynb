{
 "cells": [
  {
   "cell_type": "markdown",
   "metadata": {},
   "source": [
    "### 1. 파일데이터 불러오기"
   ]
  },
  {
   "cell_type": "code",
   "execution_count": 1,
   "metadata": {},
   "outputs": [],
   "source": [
    "import pandas as pd"
   ]
  },
  {
   "cell_type": "code",
   "execution_count": 5,
   "metadata": {},
   "outputs": [],
   "source": [
    "#한글 데이터 불러오기\n",
    "regionData = pd.read_csv(\"../dataset/kopo_region_mst_hangul.csv\", encoding='ms949')"
   ]
  },
  {
   "cell_type": "code",
   "execution_count": 9,
   "metadata": {},
   "outputs": [
    {
     "data": {
      "text/html": [
       "<div>\n",
       "<style scoped>\n",
       "    .dataframe tbody tr th:only-of-type {\n",
       "        vertical-align: middle;\n",
       "    }\n",
       "\n",
       "    .dataframe tbody tr th {\n",
       "        vertical-align: top;\n",
       "    }\n",
       "\n",
       "    .dataframe thead th {\n",
       "        text-align: right;\n",
       "    }\n",
       "</style>\n",
       "<table border=\"1\" class=\"dataframe\">\n",
       "  <thead>\n",
       "    <tr style=\"text-align: right;\">\n",
       "      <th></th>\n",
       "      <th>REGIONID</th>\n",
       "      <th>REGIONNAME</th>\n",
       "    </tr>\n",
       "  </thead>\n",
       "  <tbody>\n",
       "    <tr>\n",
       "      <th>0</th>\n",
       "      <td>A00</td>\n",
       "      <td>아프리카</td>\n",
       "    </tr>\n",
       "  </tbody>\n",
       "</table>\n",
       "</div>"
      ],
      "text/plain": [
       "  REGIONID REGIONNAME\n",
       "0      A00       아프리카"
      ]
     },
     "execution_count": 9,
     "metadata": {},
     "output_type": "execute_result"
    }
   ],
   "source": [
    "regionData.head(1)"
   ]
  },
  {
   "cell_type": "code",
   "execution_count": 3,
   "metadata": {},
   "outputs": [],
   "source": [
    "customerData = pd.read_csv(\"../dataset/customerdata.csv\")"
   ]
  },
  {
   "cell_type": "code",
   "execution_count": 5,
   "metadata": {},
   "outputs": [
    {
     "data": {
      "text/html": [
       "<div>\n",
       "<style scoped>\n",
       "    .dataframe tbody tr th:only-of-type {\n",
       "        vertical-align: middle;\n",
       "    }\n",
       "\n",
       "    .dataframe tbody tr th {\n",
       "        vertical-align: top;\n",
       "    }\n",
       "\n",
       "    .dataframe thead th {\n",
       "        text-align: right;\n",
       "    }\n",
       "</style>\n",
       "<table border=\"1\" class=\"dataframe\">\n",
       "  <thead>\n",
       "    <tr style=\"text-align: right;\">\n",
       "      <th></th>\n",
       "      <th>CUSTID</th>\n",
       "      <th>AVERAGEPRICE</th>\n",
       "      <th>EMI</th>\n",
       "      <th>DEVICECOUNT</th>\n",
       "      <th>PRODUCTAGE</th>\n",
       "      <th>CUSTTYPE</th>\n",
       "    </tr>\n",
       "  </thead>\n",
       "  <tbody>\n",
       "    <tr>\n",
       "      <th>0</th>\n",
       "      <td>A13566</td>\n",
       "      <td>4273.900000</td>\n",
       "      <td>3</td>\n",
       "      <td>6.4</td>\n",
       "      <td>1.679181</td>\n",
       "      <td>Big-Screen-lover</td>\n",
       "    </tr>\n",
       "    <tr>\n",
       "      <th>1</th>\n",
       "      <td>A14219</td>\n",
       "      <td>3642.441950</td>\n",
       "      <td>2</td>\n",
       "      <td>4.0</td>\n",
       "      <td>2.682023</td>\n",
       "      <td>Sleeping-dog</td>\n",
       "    </tr>\n",
       "    <tr>\n",
       "      <th>2</th>\n",
       "      <td>A15312</td>\n",
       "      <td>3653.884565</td>\n",
       "      <td>2</td>\n",
       "      <td>5.0</td>\n",
       "      <td>3.208202</td>\n",
       "      <td>Sleeping-dog</td>\n",
       "    </tr>\n",
       "    <tr>\n",
       "      <th>3</th>\n",
       "      <td>A16605</td>\n",
       "      <td>3713.211107</td>\n",
       "      <td>2</td>\n",
       "      <td>6.6</td>\n",
       "      <td>0.900000</td>\n",
       "      <td>Early-bird</td>\n",
       "    </tr>\n",
       "    <tr>\n",
       "      <th>4</th>\n",
       "      <td>B10634</td>\n",
       "      <td>3391.074215</td>\n",
       "      <td>2</td>\n",
       "      <td>4.2</td>\n",
       "      <td>2.453656</td>\n",
       "      <td>Sleeping-dog</td>\n",
       "    </tr>\n",
       "  </tbody>\n",
       "</table>\n",
       "</div>"
      ],
      "text/plain": [
       "   CUSTID  AVERAGEPRICE  EMI  DEVICECOUNT  PRODUCTAGE          CUSTTYPE\n",
       "0  A13566   4273.900000    3          6.4    1.679181  Big-Screen-lover\n",
       "1  A14219   3642.441950    2          4.0    2.682023      Sleeping-dog\n",
       "2  A15312   3653.884565    2          5.0    3.208202      Sleeping-dog\n",
       "3  A16605   3713.211107    2          6.6    0.900000        Early-bird\n",
       "4  B10634   3391.074215    2          4.2    2.453656      Sleeping-dog"
      ]
     },
     "execution_count": 5,
     "metadata": {},
     "output_type": "execute_result"
    }
   ],
   "source": [
    "customerData.head()"
   ]
  },
  {
   "cell_type": "code",
   "execution_count": 10,
   "metadata": {},
   "outputs": [],
   "source": [
    "customerData.columns = ['CUSTID','AVGPRICE','EMI','DEVICECOUNT','PRODUCTAGE','CUSTTYPE2']"
   ]
  },
  {
   "cell_type": "code",
   "execution_count": 11,
   "metadata": {},
   "outputs": [
    {
     "data": {
      "text/html": [
       "<div>\n",
       "<style scoped>\n",
       "    .dataframe tbody tr th:only-of-type {\n",
       "        vertical-align: middle;\n",
       "    }\n",
       "\n",
       "    .dataframe tbody tr th {\n",
       "        vertical-align: top;\n",
       "    }\n",
       "\n",
       "    .dataframe thead th {\n",
       "        text-align: right;\n",
       "    }\n",
       "</style>\n",
       "<table border=\"1\" class=\"dataframe\">\n",
       "  <thead>\n",
       "    <tr style=\"text-align: right;\">\n",
       "      <th></th>\n",
       "      <th>CUSTID</th>\n",
       "      <th>AVGPRICE</th>\n",
       "      <th>EMI</th>\n",
       "      <th>DEVICECOUNT</th>\n",
       "      <th>PRODUCTAGE</th>\n",
       "      <th>CUSTTYPE2</th>\n",
       "    </tr>\n",
       "  </thead>\n",
       "  <tbody>\n",
       "    <tr>\n",
       "      <th>0</th>\n",
       "      <td>A13566</td>\n",
       "      <td>4273.900000</td>\n",
       "      <td>3</td>\n",
       "      <td>6.4</td>\n",
       "      <td>1.679181</td>\n",
       "      <td>Big-Screen-lover</td>\n",
       "    </tr>\n",
       "    <tr>\n",
       "      <th>1</th>\n",
       "      <td>A14219</td>\n",
       "      <td>3642.441950</td>\n",
       "      <td>2</td>\n",
       "      <td>4.0</td>\n",
       "      <td>2.682023</td>\n",
       "      <td>Sleeping-dog</td>\n",
       "    </tr>\n",
       "    <tr>\n",
       "      <th>2</th>\n",
       "      <td>A15312</td>\n",
       "      <td>3653.884565</td>\n",
       "      <td>2</td>\n",
       "      <td>5.0</td>\n",
       "      <td>3.208202</td>\n",
       "      <td>Sleeping-dog</td>\n",
       "    </tr>\n",
       "    <tr>\n",
       "      <th>3</th>\n",
       "      <td>A16605</td>\n",
       "      <td>3713.211107</td>\n",
       "      <td>2</td>\n",
       "      <td>6.6</td>\n",
       "      <td>0.900000</td>\n",
       "      <td>Early-bird</td>\n",
       "    </tr>\n",
       "    <tr>\n",
       "      <th>4</th>\n",
       "      <td>B10634</td>\n",
       "      <td>3391.074215</td>\n",
       "      <td>2</td>\n",
       "      <td>4.2</td>\n",
       "      <td>2.453656</td>\n",
       "      <td>Sleeping-dog</td>\n",
       "    </tr>\n",
       "  </tbody>\n",
       "</table>\n",
       "</div>"
      ],
      "text/plain": [
       "   CUSTID     AVGPRICE  EMI  DEVICECOUNT  PRODUCTAGE         CUSTTYPE2\n",
       "0  A13566  4273.900000    3          6.4    1.679181  Big-Screen-lover\n",
       "1  A14219  3642.441950    2          4.0    2.682023      Sleeping-dog\n",
       "2  A15312  3653.884565    2          5.0    3.208202      Sleeping-dog\n",
       "3  A16605  3713.211107    2          6.6    0.900000        Early-bird\n",
       "4  B10634  3391.074215    2          4.2    2.453656      Sleeping-dog"
      ]
     },
     "execution_count": 11,
     "metadata": {},
     "output_type": "execute_result"
    }
   ],
   "source": [
    "customerData.head()"
   ]
  },
  {
   "cell_type": "code",
   "execution_count": 13,
   "metadata": {},
   "outputs": [],
   "source": [
    "customerData.to_csv(\"./customerDataout.csv\", index= False)"
   ]
  }
 ],
 "metadata": {
  "kernelspec": {
   "display_name": "Python 3",
   "language": "python",
   "name": "python3"
  },
  "language_info": {
   "codemirror_mode": {
    "name": "ipython",
    "version": 3
   },
   "file_extension": ".py",
   "mimetype": "text/x-python",
   "name": "python",
   "nbconvert_exporter": "python",
   "pygments_lexer": "ipython3",
   "version": "3.7.1"
  }
 },
 "nbformat": 4,
 "nbformat_minor": 2
}

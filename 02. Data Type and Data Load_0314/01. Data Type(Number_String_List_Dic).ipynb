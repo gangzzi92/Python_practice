{
 "cells": [
  {
   "cell_type": "code",
   "execution_count": 2,
   "metadata": {},
   "outputs": [],
   "source": [
    "a=123\n",
    "b=\"123\""
   ]
  },
  {
   "cell_type": "code",
   "execution_count": 3,
   "metadata": {},
   "outputs": [
    {
     "data": {
      "text/plain": [
       "int"
      ]
     },
     "execution_count": 3,
     "metadata": {},
     "output_type": "execute_result"
    }
   ],
   "source": [
    "type(a)"
   ]
  },
  {
   "cell_type": "code",
   "execution_count": 5,
   "metadata": {},
   "outputs": [
    {
     "data": {
      "text/plain": [
       "str"
      ]
     },
     "execution_count": 5,
     "metadata": {},
     "output_type": "execute_result"
    }
   ],
   "source": [
    "type(b)"
   ]
  },
  {
   "cell_type": "markdown",
   "metadata": {},
   "source": [
    "### 1. 문자열 더하기"
   ]
  },
  {
   "cell_type": "code",
   "execution_count": 7,
   "metadata": {},
   "outputs": [
    {
     "name": "stdout",
     "output_type": "stream",
     "text": [
      "Fintech Students\n"
     ]
    }
   ],
   "source": [
    "head = \"Fintech\"\n",
    "tail = \"Students\"\n",
    "fullstring = head + \" \" + tail\n",
    "print(fullstring)"
   ]
  },
  {
   "cell_type": "markdown",
   "metadata": {},
   "source": [
    "### 2. 문자열 곱하기"
   ]
  },
  {
   "cell_type": "code",
   "execution_count": 8,
   "metadata": {},
   "outputs": [
    {
     "name": "stdout",
     "output_type": "stream",
     "text": [
      "**********\n"
     ]
    }
   ],
   "source": [
    "star = \"*\"\n",
    "print(star * 10)"
   ]
  },
  {
   "cell_type": "markdown",
   "metadata": {},
   "source": [
    "### 3. 문자열 인덱싱 (0부터 시작)"
   ]
  },
  {
   "cell_type": "code",
   "execution_count": 23,
   "metadata": {},
   "outputs": [
    {
     "name": "stdout",
     "output_type": "stream",
     "text": [
      "2\n",
      "2018\n",
      "2018\n",
      "01\n"
     ]
    }
   ],
   "source": [
    "YEARLEN = 4\n",
    "yearweek = \"201801\"\n",
    "print(yearweek[0]) # 첫번째 문자열\n",
    "print(yearweek[:YEARLEN])\n",
    "print(yearweek[0:4]) #4번째 문자열 까지\n",
    "print(yearweek[4:]) #5번째 문자열 부터"
   ]
  },
  {
   "cell_type": "markdown",
   "metadata": {},
   "source": [
    "### 4. 문자열 개수세기"
   ]
  },
  {
   "cell_type": "code",
   "execution_count": 24,
   "metadata": {},
   "outputs": [
    {
     "name": "stdout",
     "output_type": "stream",
     "text": [
      "1\n"
     ]
    }
   ],
   "source": [
    "yearweek =\"2017W03\"\n",
    "print(yearweek.count('W'))"
   ]
  },
  {
   "cell_type": "markdown",
   "metadata": {},
   "source": [
    "### 5. 문자열 위치확인"
   ]
  },
  {
   "cell_type": "code",
   "execution_count": 27,
   "metadata": {},
   "outputs": [
    {
     "name": "stdout",
     "output_type": "stream",
     "text": [
      "4\n",
      "['201703']\n"
     ]
    }
   ],
   "source": [
    "print(yearweek.index('W'))\n",
    "delimeter=yearweek.index('W')\n",
    "yearweek_new = yearweek[:delimeter] + yearweek[delimeter+1:]\n",
    "print([yearweek_new])"
   ]
  },
  {
   "cell_type": "markdown",
   "metadata": {},
   "source": [
    "### 6. split함수"
   ]
  },
  {
   "cell_type": "code",
   "execution_count": 41,
   "metadata": {},
   "outputs": [
    {
     "name": "stdout",
     "output_type": "stream",
     "text": [
      "['2017', '03']\n"
     ]
    },
    {
     "data": {
      "text/plain": [
       "list"
      ]
     },
     "execution_count": 41,
     "metadata": {},
     "output_type": "execute_result"
    }
   ],
   "source": [
    "splitVar = yearweek.split(\"W\")\n",
    "print(splitVar)\n",
    "type(splitVar)"
   ]
  },
  {
   "cell_type": "markdown",
   "metadata": {},
   "source": [
    "### 7. 자료형 변환"
   ]
  },
  {
   "cell_type": "code",
   "execution_count": 45,
   "metadata": {},
   "outputs": [
    {
     "name": "stdout",
     "output_type": "stream",
     "text": [
      "<class 'int'>\n",
      "<class 'str'>\n"
     ]
    }
   ],
   "source": [
    "numberValue = 1234\n",
    "cvStrValue =str(numberValue)\n",
    "print(type(numberValue))\n",
    "print(type(cvStrValue))"
   ]
  },
  {
   "cell_type": "markdown",
   "metadata": {},
   "source": [
    "### 실습1"
   ]
  },
  {
   "cell_type": "code",
   "execution_count": 101,
   "metadata": {
    "scrolled": true
   },
   "outputs": [
    {
     "name": "stdout",
     "output_type": "stream",
     "text": [
      "SEC\n",
      "20180212\n",
      "250\n"
     ]
    }
   ],
   "source": [
    "full = \"SEC 20180212 250\"\n",
    "delimeter = full.index(' ')\n",
    "stock_name = full[:delimeter]\n",
    "date = full[delimeter+1:12]\n",
    "value = full[13:]\n",
    "print(stock_name)\n",
    "print(date)\n",
    "print(value)"
   ]
  },
  {
   "cell_type": "markdown",
   "metadata": {},
   "source": [
    "### 실습2"
   ]
  },
  {
   "cell_type": "code",
   "execution_count": 112,
   "metadata": {},
   "outputs": [
    {
     "name": "stdout",
     "output_type": "stream",
     "text": [
      "SEC 201828 250\n"
     ]
    }
   ],
   "source": [
    "full = \"Sec 2018W28 250\"\n",
    "delimeter = full.index('W') # = 8\n",
    "stock_name = full[:3]\n",
    "date = full[4:delimeter] + full[delimeter+1:11]\n",
    "value = full[12:]\n",
    "print(stock_name.upper(), date, value)"
   ]
  },
  {
   "cell_type": "markdown",
   "metadata": {},
   "source": [
    "### 실습2-2"
   ]
  },
  {
   "cell_type": "code",
   "execution_count": 120,
   "metadata": {},
   "outputs": [
    {
     "name": "stdout",
     "output_type": "stream",
     "text": [
      "SEC 201828 250\n"
     ]
    }
   ],
   "source": [
    "fullRp = full.replace('W', '').upper()\n",
    "stockLen = 3\n",
    "dateLen = 5\n",
    "valueLen = 3\n",
    "stock_name = fullRp[:stockLen]\n",
    "date = fullRp[stockLen+1:stockLen+1+dateLen+1]\n",
    "value = fullRp[stockLen+1+dateLen+1+1:]\n",
    "print(stock_name, date, value)"
   ]
  },
  {
   "cell_type": "markdown",
   "metadata": {},
   "source": [
    "### 8. 리스트 연산"
   ]
  },
  {
   "cell_type": "code",
   "execution_count": 151,
   "metadata": {},
   "outputs": [
    {
     "name": "stdout",
     "output_type": "stream",
     "text": [
      "['SEC'] [120, 130] [201712, 201713]\n",
      "['SEC', 120, 130, [201712, 201713]]\n"
     ]
    }
   ],
   "source": [
    "stockName = [\"SEC\"]\n",
    "priceList = [120,130]\n",
    "dateList = [201712,201713]\n",
    "print(stockName, priceList, dateList)\n",
    "secinfo = stockName + priceList + [dateList]\n",
    "print(secinfo)"
   ]
  },
  {
   "cell_type": "markdown",
   "metadata": {},
   "source": [
    "### 9. 리스트 인덱싱"
   ]
  },
  {
   "cell_type": "code",
   "execution_count": 150,
   "metadata": {},
   "outputs": [
    {
     "data": {
      "text/plain": [
       "['SEC', 120, 130, 201712, 201713]"
      ]
     },
     "execution_count": 150,
     "metadata": {},
     "output_type": "execute_result"
    }
   ],
   "source": [
    "secinfo"
   ]
  },
  {
   "cell_type": "code",
   "execution_count": 153,
   "metadata": {},
   "outputs": [
    {
     "name": "stdout",
     "output_type": "stream",
     "text": [
      "120\n",
      "[201712, 201713]\n",
      "201712\n",
      "['SEC', 120, 130]\n"
     ]
    }
   ],
   "source": [
    "print(secinfo[1])\n",
    "print(secinfo[3])\n",
    "print(secinfo[3][0])\n",
    "print(secinfo[0:3])"
   ]
  },
  {
   "cell_type": "markdown",
   "metadata": {},
   "source": [
    "### 10. 리스트 값 업데이트"
   ]
  },
  {
   "cell_type": "code",
   "execution_count": 185,
   "metadata": {},
   "outputs": [
    {
     "name": "stdout",
     "output_type": "stream",
     "text": [
      "[120, 130, 140, 150]\n",
      "[120, 130, 180, 150]\n",
      "[120, 130, 180]\n",
      "[180]\n"
     ]
    }
   ],
   "source": [
    "updateList = [120,130,140,150]\n",
    "print(updateList)\n",
    "updateList[2] = 180\n",
    "print(updateList)\n",
    "del updateList[3]\n",
    "print(updateList)\n",
    "updateList[0:2] = []\n",
    "print(updateList)"
   ]
  },
  {
   "cell_type": "markdown",
   "metadata": {},
   "source": [
    "### 11. 리스트 관련 주요함수"
   ]
  },
  {
   "cell_type": "code",
   "execution_count": 2,
   "metadata": {},
   "outputs": [
    {
     "name": "stdout",
     "output_type": "stream",
     "text": [
      "[120, 130, 140, 150, 100]\n",
      "[120, 130, 140, 99, 150, 100]\n",
      "[120, 130, 140, 99, 150, 100, 11, 120]\n",
      "[11, 99, 100, 120, 120, 130, 140, 150]\n",
      "[150, 140, 130, 120, 120, 100, 99, 11]\n",
      "0\n",
      "8\n",
      "11\n",
      "150\n",
      "870\n",
      "2\n",
      "150\n"
     ]
    }
   ],
   "source": [
    "functionList = [120,130,140,150]\n",
    "#추가하기\n",
    "functionList.append(100)\n",
    "print(functionList)\n",
    "functionList.insert(3,99)\n",
    "print(functionList)\n",
    "functionList.extend([11,120])\n",
    "print(functionList)\n",
    "#정렬하기\n",
    "functionList.sort(reverse = False)\n",
    "print(functionList)\n",
    "functionList.sort(reverse = True)\n",
    "print(functionList)\n",
    "#인덱스 가져오기\n",
    "print(functionList.index(150))\n",
    "#자주사용하는 함수\n",
    "print(len(functionList))\n",
    "print(min(functionList))\n",
    "print(max(functionList))\n",
    "print(sum(functionList))\n",
    "print(functionList.count(120))\n",
    "functionList.sort(reverse = False)\n",
    "print(functionList.pop())"
   ]
  },
  {
   "cell_type": "markdown",
   "metadata": {},
   "source": [
    "### 실습"
   ]
  },
  {
   "cell_type": "code",
   "execution_count": 215,
   "metadata": {},
   "outputs": [
    {
     "name": "stdout",
     "output_type": "stream",
     "text": [
      "[120, 150, 300, 500, 1000]\n",
      "414.0\n"
     ]
    }
   ],
   "source": [
    "practice = [120,150,300,500,1000,100,2000]\n",
    "practice.remove(max(practice))\n",
    "practice.remove(min(practice))\n",
    "print(practice)\n",
    "average = sum(practice) / len(practice)\n",
    "print(average)"
   ]
  },
  {
   "cell_type": "markdown",
   "metadata": {},
   "source": [
    "### 12. 딕셔너리"
   ]
  },
  {
   "cell_type": "code",
   "execution_count": 229,
   "metadata": {},
   "outputs": [
    {
     "name": "stdout",
     "output_type": "stream",
     "text": [
      "{'name': 'sec', 'id': '300000', 'address': 'suwon'}\n",
      "sec\n",
      "{'name': 'sec2', 'id': '300000', 'address': 'suwon'}\n",
      "{'name': 'sec2', 'id': '300000', 'address': 'suwon', 'stock': 'yes'}\n",
      "{'name': 'sec2', 'address': 'suwon', 'stock': 'yes'}\n"
     ]
    }
   ],
   "source": [
    "dic = {\"name\" : \"sec\", \"id\" : \"300000\", \"address\" : \"suwon\"}\n",
    "print(dic)\n",
    "print(dic[\"name\"])\n",
    "#추가 변경 삭제\n",
    "dic[\"name\"] = \"sec2\"\n",
    "print(dic)\n",
    "dic[\"stock\"] = \"yes\"\n",
    "print(dic)\n",
    "del dic[\"id\"]\n",
    "print(dic)"
   ]
  }
 ],
 "metadata": {
  "kernelspec": {
   "display_name": "Python 3",
   "language": "python",
   "name": "python3"
  },
  "language_info": {
   "codemirror_mode": {
    "name": "ipython",
    "version": 3
   },
   "file_extension": ".py",
   "mimetype": "text/x-python",
   "name": "python",
   "nbconvert_exporter": "python",
   "pygments_lexer": "ipython3",
   "version": "3.7.1"
  }
 },
 "nbformat": 4,
 "nbformat_minor": 2
}
